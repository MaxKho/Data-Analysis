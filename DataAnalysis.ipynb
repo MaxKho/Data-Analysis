{
  "nbformat": 4,
  "nbformat_minor": 0,
  "metadata": {
    "colab": {
      "name": "DataAnalysis.ipynb",
      "provenance": [],
      "collapsed_sections": []
    },
    "kernelspec": {
      "name": "python3",
      "display_name": "Python 3"
    },
    "language_info": {
      "name": "python"
    }
  },
  "cells": [
    {
      "cell_type": "code",
      "source": [
        "# Installing necessary software\n",
        "!pip install nltk\n",
        "!pip install spacy==3.3.0\n",
        "!pip install spacytextblob\n",
        "!python -m textblob.download_corpora\n",
        "!python -m spacy download en_core_web_sm"
      ],
      "metadata": {
        "id": "8NoOxmfKqKXx"
      },
      "execution_count": null,
      "outputs": []
    },
    {
      "cell_type": "code",
      "source": [
        "# Importing libraries\n",
        "import matplotlib.pyplot as plt\n",
        "import pandas as pd\n",
        "import numpy as np\n",
        "import pickle\n",
        "import random\n",
        "from random import choice\n",
        "import queue\n",
        "import threading\n",
        "import time\n",
        "from numpy.core.fromnumeric import mean\n",
        "from sklearn.model_selection import train_test_split\n",
        "from sklearn.feature_extraction.text import TfidfVectorizer\n",
        "from sklearn.naive_bayes import MultinomialNB\n",
        "from sklearn.neural_network import MLPClassifier\n",
        "from sklearn.metrics import accuracy_score\n",
        "import nltk\n",
        "from nltk.tokenize import RegexpTokenizer\n",
        "from nltk.stem.porter import PorterStemmer\n",
        "import spacy\n",
        "from spacytextblob.spacytextblob import SpacyTextBlob\n",
        "from IPython.display import clear_output"
      ],
      "metadata": {
        "id": "Ga_gXUWIBfEe"
      },
      "execution_count": 2,
      "outputs": []
    },
    {
      "cell_type": "code",
      "source": [
        "# Given dataset too small; Downloading a bigger one\n",
        "nltk.download(\"twitter_samples\")\n",
        "\n",
        "# Downloading stopwords to filter later\n",
        "nltk.download('stopwords')"
      ],
      "metadata": {
        "colab": {
          "base_uri": "https://localhost:8080/"
        },
        "id": "QX4iCW2aqSqs",
        "outputId": "dc344d5f-a0e0-4db3-fb43-05c9c55826be"
      },
      "execution_count": 3,
      "outputs": [
        {
          "output_type": "stream",
          "name": "stdout",
          "text": [
            "[nltk_data] Downloading package twitter_samples to /root/nltk_data...\n",
            "[nltk_data]   Unzipping corpora/twitter_samples.zip.\n",
            "[nltk_data] Downloading package stopwords to /root/nltk_data...\n",
            "[nltk_data]   Unzipping corpora/stopwords.zip.\n"
          ]
        },
        {
          "output_type": "execute_result",
          "data": {
            "text/plain": [
              "True"
            ]
          },
          "metadata": {},
          "execution_count": 3
        }
      ]
    },
    {
      "cell_type": "code",
      "source": [
        "# Compiling downloaded Twitter data into a dataframe\n",
        "pos = nltk.corpus.twitter_samples.strings(\"positive_tweets.json\")\n",
        "neg = nltk.corpus.twitter_samples.strings(\"negative_tweets.json\")\n",
        "\n",
        "twitter_extra = pd.concat([pd.DataFrame(list(zip(pos, \n",
        "                                                 ['P' for i in range(len(pos))],\n",
        "                                                 ['Twitter' for i in range(len(pos))])),\n",
        "                                        columns = [0, 0, 0]),\n",
        "                          pd.DataFrame(list(zip(neg, \n",
        "                                                ['N' for i in range(len(neg))],\n",
        "                                                ['Twitter' for i in range(len(neg))])),\n",
        "                                       columns = [0, 0, 0])])"
      ],
      "metadata": {
        "id": "J4wjgdaDq6VS"
      },
      "execution_count": 4,
      "outputs": []
    },
    {
      "cell_type": "code",
      "execution_count": 6,
      "metadata": {
        "id": "qancWjI_A7cp"
      },
      "outputs": [],
      "source": [
        "# Compiling the rest of the data into dataframes\n",
        "fbd = pd.read_csv(\"fb_data.txt\", sep = \"\\n\", header = None)\n",
        "fbl = pd.read_csv(\"fb_label.txt\", sep = \"\\n\", header = None)\n",
        "fbs = pd.DataFrame(['Facebook' for i in range(len(fbd))])\n",
        "amd = pd.read_csv(\"amazon_data.txt\", sep = \"\\n\", header = None)\n",
        "aml = pd.read_csv(\"amazon_label.txt\", sep = \"\\n\", header = None)\n",
        "ams = pd.DataFrame(['Amazon' for i in range(len(amd))])\n",
        "twd = pd.read_csv(\"tweets_data.txt\", sep = \"\\n\", header = None)\n",
        "twl = pd.read_csv(\"tweets_label.txt\", sep = \"\\n\", header = None)\n",
        "tws = pd.DataFrame(['Twitter' for i in range(len(twd))])\n",
        "\n",
        "facebook = pd.concat([fbd, fbl, fbs], axis = 1)\n",
        "amazon = pd.concat([amd, aml, ams], axis = 1)\n",
        "twitter_base = pd.concat([twd, twl, tws], axis = 1)\n",
        "twitter = pd.concat([twitter_base, twitter_extra])"
      ]
    },
    {
      "cell_type": "code",
      "source": [
        "# Concatenating all of the data into a single dataset\n",
        "df = pd.concat([facebook, amazon, twitter])\n",
        "x = df.iloc[:, [0, 2]].values\n",
        "y = df.iloc[:, 1].values\n",
        "\n",
        "# Splitting the dataset into train data, on which we will train our models, and\n",
        "# test data, which will be used to simulate social media users\n",
        "x_train, x_test, y_train, y_test = train_test_split(x, y, test_size = 0.3, \n",
        "                                                    random_state = 0)\n",
        "# Constructing a dataset to later sample simulated comments and replies from; \n",
        "# sentiment classification is removed for realism\n",
        "simul = pd.concat([pd.DataFrame(x_test).iloc[:, 0], \n",
        "                   pd.DataFrame(['U' for i in range(len(x_test))]),\n",
        "                   pd.DataFrame(x_test).iloc[:, 1]],\n",
        "                  axis = 1)"
      ],
      "metadata": {
        "id": "CitRfKcJCZR7"
      },
      "execution_count": 7,
      "outputs": []
    },
    {
      "cell_type": "code",
      "source": [
        "# Defining the publication class, to which both comments and replies belong\n",
        "class Publication:\n",
        "  def __init__(self, content, sentiment, source, date, time):\n",
        "      self.content = content\n",
        "      self.sentiment = sentiment\n",
        "      self.source = source\n",
        "      self.date = date\n",
        "      self.time = time\n",
        "\n",
        "# Defining the user class, which is designed to simulate real internet users\n",
        "class User:\n",
        "  def __init__(self, comments, replies, userID, name):\n",
        "    self.comments = comments\n",
        "    self.replies = replies\n",
        "    self.userID = userID\n",
        "    self.name = name\n",
        "\n",
        "# Defining the room class\n",
        "class Room:\n",
        "  def __init__(self, members, join_requests, name):\n",
        "    self.members = members\n",
        "    self.join_requests = join_requests\n",
        "    self.name = name"
      ],
      "metadata": {
        "id": "pdEdKBkXif4K"
      },
      "execution_count": 8,
      "outputs": []
    },
    {
      "cell_type": "code",
      "source": [
        "# Initialising rooms and users\n",
        "rooms = [Room([], [], 'Room%s' % (i+1)) for i in range(2)]\n",
        "# Only 2 users because the computational strain is otherwise too high\n",
        "users = [User([], [], [], []) for i in range(50)]\n",
        "\n",
        "for user in users:\n",
        "  comments = []\n",
        "  replies = []\n",
        "  # Creating sample names for users\n",
        "  names = [\"Jack\", \"John\", \"Max\", \"Arseniy\", \"Gregorz\", \"Mike\", \n",
        "           \"GoogleEnPassant\", \"GaryChess\", \"Jacob\", \"George\",\n",
        "           \"HolyHell\", \"Rhosnes\", \"Mitch\", \"Moh\"]\n",
        "  numbers = list(range(1000))\n",
        "  dates = [1, 2, 3, 4, 5]\n",
        "  for i in range(int(np.random.normal(10, 5))):\n",
        "    # Randomly sampling comments and replies from the dataset and assigning them\n",
        "    # to our users\n",
        "    comment = simul.sample()\n",
        "    reply = simul.sample()\n",
        "    comments.append(Publication(comment.iloc[0, 0], \n",
        "                                comment.iloc[0, 1],\n",
        "                                comment.iloc[0, 2], \n",
        "                                choice(dates),\n",
        "                                0))\n",
        "    replies.append(Publication(reply.iloc[0, 0], \n",
        "                               reply.iloc[0, 1],\n",
        "                               reply.iloc[0, 2],\n",
        "                               choice(dates),\n",
        "                               0))\n",
        "  user.comments = comments\n",
        "  user.replies = replies\n",
        "  user.userID = users.index(user)\n",
        "  # Randomly assigning names to users\n",
        "  user.name = '%s%d' % (choice(names), choice(numbers))\n",
        "  # Randomly selecting whether the users are going to be members or will request\n",
        "  # access to each of the rooms\n",
        "  for i in range(len(rooms)):\n",
        "    status = choice([1, 2, 3, 4])\n",
        "    if status == 1:\n",
        "      rooms[i].members.append(user)\n",
        "    if status == 2:\n",
        "      rooms[i].join_requests.append(user)"
      ],
      "metadata": {
        "id": "YHBSpV16m68o"
      },
      "execution_count": 26,
      "outputs": []
    },
    {
      "cell_type": "code",
      "source": [
        "# Initialising sentiment analysis components\n",
        "tokeniser = RegexpTokenizer(pattern = '\\w+|[:()@]+') # Emotics are vital to sentiment\n",
        "# analysis and have raised the accuracy score of each of the models to be tested\n",
        "# at least 5-fold\n",
        "stopwords = nltk.corpus.stopwords.words(\"english\")\n",
        "ps = PorterStemmer()"
      ],
      "metadata": {
        "id": "BMDRONy4STUh"
      },
      "execution_count": 10,
      "outputs": []
    },
    {
      "cell_type": "code",
      "source": [
        "# Preparing a clean piece of text ready for vectorisation\n",
        "def clean(text, get_tokens = False):\n",
        "  text = text.lower()\n",
        "  tokens = tokeniser.tokenize(text)\n",
        "  # Removing stopwords and hyperlinks, which aren't useful for sentiment analysis\n",
        "  clean_tokens = [token for token in tokens if token not in stopwords\n",
        "                  and not any(x in token for x in ['www', '.com', 'http'])]\n",
        "  stemmed_tokens = [ps.stem(token) for token in clean_tokens]\n",
        "  if not get_tokens:\n",
        "    return \" \".join(stemmed_tokens)\n",
        "  # Creating a second purpose for the function to break down a piece of text into\n",
        "  # a list of clean words and symbols\n",
        "  else:\n",
        "    return stemmed_tokens"
      ],
      "metadata": {
        "id": "fYJnwilJTh6n"
      },
      "execution_count": 11,
      "outputs": []
    },
    {
      "cell_type": "code",
      "source": [
        "# Generating the list of all words known to us so far in preparation for training\n",
        "# our sentiment analysis models\n",
        "vocab = []\n",
        "for comment in x_train[:, 0]:\n",
        "  for token in clean(comment, True):\n",
        "    if token not in vocab:\n",
        "      vocab.append(token)"
      ],
      "metadata": {
        "id": "WU7CG6jYgPCt"
      },
      "execution_count": 12,
      "outputs": []
    },
    {
      "cell_type": "code",
      "source": [
        "# Writing a function to filter out words which aren't in our vocabulary, as the\n",
        "# vocab vector that we will later use for model training will not contain\n",
        "# a slot associated with those words\n",
        "def filter(text):\n",
        "  text_new = []\n",
        "  for token in clean(text, True):\n",
        "    if token in vocab:\n",
        "      text_new.append(token)\n",
        "  return \" \".join(text_new)"
      ],
      "metadata": {
        "id": "98j8FiEvtpX7"
      },
      "execution_count": 13,
      "outputs": []
    },
    {
      "cell_type": "code",
      "source": [
        "# Splitting the train data even further to test the performance of our models\n",
        "# without getting any information about the simulated users\n",
        "Xtr, Xte, Ytr, Yte = train_test_split(x_train, y_train, test_size = 0.3, \n",
        "                                                    random_state = 0)\n",
        "tv = TfidfVectorizer(ngram_range = (1, 2), vocabulary = vocab)"
      ],
      "metadata": {
        "id": "pqvSWKTAo3h9"
      },
      "execution_count": 14,
      "outputs": []
    },
    {
      "cell_type": "code",
      "source": [
        "# Requesting sentiment data and a vectoriser to return machine-learning-ready \n",
        "# data; a pickle option is also there to preserve the vectoriser configuration\n",
        "# for future pre-processing ─ this is necessary so that the dimensions of our\n",
        "# vectorised data are always the same\n",
        "def pre_process_1(x, vct, is_pickle):\n",
        "  x_comments = [clean(i) for i in x[:, 0]]\n",
        "  x_clean = np.array([[x_comments[i], x[i, 1]] for i in range(len(x))])\n",
        "  x_trim = [[filter(i[0]), i[1]] for i in x_clean]\n",
        "  x_comments = [i[0] for i in x_trim]\n",
        "\n",
        "  x_vector = vct.fit_transform(x_comments).toarray()\n",
        "  if is_pickle:\n",
        "    s = pickle.dumps(vct)\n",
        "    global tv2\n",
        "    tv2 = pickle.loads(s)\n",
        "  x_final = []\n",
        "  # Encoding social medium source data\n",
        "  onehot = pd.get_dummies([i[1] for i in x_trim])\n",
        "  for i in range(len(x_trim)):\n",
        "    x_final.append(np.concatenate([x_vector[i],\n",
        "                                    onehot.iloc[i, :].tolist()]).tolist())\n",
        "  return np.array(x_final)"
      ],
      "metadata": {
        "id": "jtDXFs5DVFeJ"
      },
      "execution_count": 15,
      "outputs": []
    },
    {
      "cell_type": "code",
      "source": [
        "# Pre-processing the training data and defining a pre-processing function with the\n",
        "# previously configured vectoriser\n",
        "Xtr_final = pre_process_1(Xtr, tv, True)\n",
        "def pre_process_2(x):\n",
        "  return pre_process_1(x, tv2, False)"
      ],
      "metadata": {
        "id": "S8b8lu8_aRRV"
      },
      "execution_count": 16,
      "outputs": []
    },
    {
      "cell_type": "code",
      "source": [
        "# Loading a pre-templated sentiment analysis engine for comparison\n",
        "nlp = spacy.load('en_core_web_sm')\n",
        "nlp.add_pipe('spacytextblob')"
      ],
      "metadata": {
        "colab": {
          "base_uri": "https://localhost:8080/"
        },
        "id": "B8sTOLe7lMi0",
        "outputId": "a82d2959-18e2-4dfa-dffe-4bc5f62f249d"
      },
      "execution_count": 17,
      "outputs": [
        {
          "output_type": "execute_result",
          "data": {
            "text/plain": [
              "<spacytextblob.spacytextblob.SpacyTextBlob at 0x7f4815f432d0>"
            ]
          },
          "metadata": {},
          "execution_count": 17
        }
      ]
    },
    {
      "cell_type": "code",
      "source": [
        "# Testing the performance of the pre-templated engine\n",
        "count = 0\n",
        "pos_correct = 0\n",
        "irr_correct = 0\n",
        "neg_correct = 0\n",
        "\n",
        "for comment in [clean(i) for i in Xte[:, 0]]:\n",
        "  sent = nlp(comment)._.blob.polarity\n",
        "  if Yte[count] == 'P':\n",
        "    if sent >= 0.5:\n",
        "      pos_correct += 1\n",
        "  if Yte[count] == 'O':\n",
        "    if sent > -0.5 and sent < 0.5:\n",
        "      pos_correct += 1\n",
        "  else:\n",
        "    if sent <= -0.5:\n",
        "      neg_correct += 1\n",
        "  count += 1\n",
        "\n",
        "spacy_accuracy = sum([pos_correct, irr_correct, neg_correct])/count\n",
        "\n",
        "# Writing a function for getting predictions on input data from the engine\n",
        "def spacy_pred(x):\n",
        "  pred = []\n",
        "  for comment in [clean(i) for i in x[:, 0]]:\n",
        "    pred.append(nlp(comment)._.blob.polarity)\n",
        "  return np.array(pred)\n",
        "\n",
        "# Recording the performance of the engine\n",
        "scores = [[spacy_accuracy, spacy_pred]]"
      ],
      "metadata": {
        "id": "0kKMyvgbmTYL"
      },
      "execution_count": 18,
      "outputs": []
    },
    {
      "cell_type": "code",
      "source": [
        "# Training our own model and recording the performance; Naive Bayes is known to be\n",
        "# an effective classifier of largely independent data such as a simple list of words\n",
        "model = MultinomialNB()\n",
        "model.fit(Xtr_final, Ytr)\n",
        "s = pickle.dumps(model)\n",
        "def Bayes(x):\n",
        "  return pickle.loads(s).predict(pre_process_2(x))\n",
        "\n",
        "scores.append([accuracy_score(Yte, Bayes(Xte)), Bayes])"
      ],
      "metadata": {
        "id": "qE0-b-ZVO-gg"
      },
      "execution_count": 30,
      "outputs": []
    },
    {
      "cell_type": "code",
      "source": [
        "# Training our neural network\n",
        "model = MLPClassifier()\n",
        "model.fit(Xtr_final, Ytr)\n",
        "s = pickle.dumps(model)\n",
        "def MLP(x):\n",
        "  return pickle.loads(s).predict(pre_process_2(x))\n",
        "\n",
        "scores.append([accuracy_score(Yte, MLP(Xte)), MLP])"
      ],
      "metadata": {
        "id": "JHd3M_i0iftL"
      },
      "execution_count": 31,
      "outputs": []
    },
    {
      "cell_type": "code",
      "source": [
        "# Outputing the performance of each model\n",
        "scores"
      ],
      "metadata": {
        "colab": {
          "base_uri": "https://localhost:8080/"
        },
        "id": "0dE4oRuoluBV",
        "outputId": "559ef756-5c98-480f-af1f-4b55b888f234"
      },
      "execution_count": 32,
      "outputs": [
        {
          "output_type": "execute_result",
          "data": {
            "text/plain": [
              "[[0.6288156288156288, <function __main__.spacy_pred>],\n",
              " [0.7032967032967034, <function __main__.Bayes>],\n",
              " [0.6857956857956858, <function __main__.MLP>]]"
            ]
          },
          "metadata": {},
          "execution_count": 32
        }
      ]
    },
    {
      "cell_type": "code",
      "source": [
        "# While the custom-trained models performed better, they consumed all of Google\n",
        "# Colab's RAM and frequently crashed the sessions, forcing me to use spacy's\n",
        "# pre-trained model\n",
        "\n",
        "sent_an = spacy_pred"
      ],
      "metadata": {
        "id": "JOEMjUCZWe7C"
      },
      "execution_count": 33,
      "outputs": []
    },
    {
      "cell_type": "code",
      "source": [
        "# Defining a function to compute the sentiment scores of a user\n",
        "def arasapps(user, aras = True):\n",
        "  if aras:\n",
        "    pubs = user.replies\n",
        "  else:\n",
        "    pubs = user.comments\n",
        "  x = [[i.content, i.source] for i in pubs]\n",
        "  return mean(sent_an(np.array(x)))"
      ],
      "metadata": {
        "id": "jOI4ysW6UTZq"
      },
      "execution_count": 34,
      "outputs": []
    },
    {
      "cell_type": "code",
      "source": [
        "# Defining a function to compute the sentiment scores of a list of publications\n",
        "def arasapps_list(pubs):\n",
        "  return mean(sent_an(np.array(pubs)))"
      ],
      "metadata": {
        "id": "WuOk1DI4vpxn"
      },
      "execution_count": 35,
      "outputs": []
    },
    {
      "cell_type": "code",
      "source": [
        "# Generating a thread designed to simulate users engaging in social media activities:\n",
        "# writing comments, receiving replies, and joining, leaving, and requesting\n",
        "# access to, rooms\n",
        "def publication_sample():\n",
        "    return [simul.iloc[:,[0,2]].sample().iloc[0,i] for i in range(2)]\n",
        "\n",
        "class Event:\n",
        "    # Exactly one of the following is NOT 0 or None:\n",
        "    # - status_change_in_room = 0 - no change, 1 or 2 - room number\n",
        "    # - comment = [text, source] or None\n",
        "    # - reply = [text, source] or None\n",
        "    def __init__(self, user_index, status_change_in_room, comment, reply):\n",
        "        self.user_index = user_index\n",
        "        self.date = 5\n",
        "        self.timestamp = time.time_ns()\n",
        "        self.status_change_in_room = status_change_in_room\n",
        "        self.comment = comment\n",
        "        self.reply = reply\n",
        "\n",
        "    def __str__(self):\n",
        "        if self.status_change_in_room != 0:\n",
        "            return f\"User {self.user_index}: Status change in room {self.status_change_in_room} at {self.timestamp}\"\n",
        "        else:\n",
        "            what = 'Comment' if self.comment is not None else 'Reply'\n",
        "            data = self.comment if self.comment is not None else self.reply\n",
        "            return f\"User {self.user_index}: {what} '{data[0]}' from {data[1]} at {self.timestamp}\"\n",
        "\n",
        "\n",
        "def generate_event(user_index, total_rooms):\n",
        "    event_type = random.randrange(100)  # 40% - comment, next 40% - reply, next 20% - status change\n",
        "    if event_type < 40:     # comment\n",
        "        return Event(user_index, 0, publication_sample(), None)\n",
        "    elif event_type < 80:   # reply\n",
        "        return Event(user_index, 0, None, publication_sample())\n",
        "    else:\n",
        "        return Event(user_index, random.randint(1, total_rooms), None, None)\n",
        "\n",
        "\n",
        "def wait_then_generate_event(user_index, total_rooms, event_queue):\n",
        "    while True:\n",
        "        time.sleep(random.randint(10, 110))  # uniform distribution around 60 seconds\n",
        "        event_queue.put(generate_event(user_index, total_rooms))\n",
        "\n",
        "\n",
        "def start_event_generation_threads(total_users, rooms, event_queue):\n",
        "    threads = []\n",
        "    for user_index in range(0, total_users):\n",
        "        args = [user_index, len(rooms), event_queue]\n",
        "        x = threading.Thread(target=wait_then_generate_event, args=args)\n",
        "        threads.append(x)\n",
        "    for x in threads:\n",
        "        x.start()\n",
        "    return threads"
      ],
      "metadata": {
        "id": "r1oBv237zekB"
      },
      "execution_count": 36,
      "outputs": []
    },
    {
      "cell_type": "code",
      "source": [
        "sent_scores = []\n",
        "for user in users:\n",
        "  sent_scores.append([arasapps(user), arasapps(user, False)])"
      ],
      "metadata": {
        "id": "ODCGmWBCo81C"
      },
      "execution_count": 47,
      "outputs": []
    },
    {
      "cell_type": "code",
      "source": [
        "def show_users_sentiments_pie_chart(sentiment_list, apps = True):\n",
        "  all_labels = ['<-0.5', '[-0.5, -0.3)', '[-0.3, -0.1)', '[-0.1, 0.1)',\n",
        "                '[0.1, 0.3]', '0.3, 0.5', '>0.5']\n",
        "  boundaries = [-0.5, -0.3, -0.1, 0.1, 0.3, 0.5, 1]\n",
        "  classes = [0 for _ in range(len(all_labels))]\n",
        "  for s in sentiment_list:\n",
        "      for bound_index in range(len(boundaries)):\n",
        "          if s[int(apps)] < boundaries[bound_index]:\n",
        "              classes[bound_index] += 1\n",
        "              break\n",
        "  # Don't show the missing classes\n",
        "  labels = []\n",
        "  values = []\n",
        "  for i in range(len(classes)):\n",
        "      if classes[i] > 0:\n",
        "          labels.append(all_labels[i])\n",
        "          values.append(classes[i])\n",
        "  fig1, ax1 = plt.subplots()\n",
        "  plt.title('User/sentiments')\n",
        "  ax1.pie(values, labels=labels, autopct='%1.1f%%', shadow=False, startangle=90)\n",
        "  ax1.axis('equal')  # Equal aspect ratio ensures that pie is drawn as a circle.\n",
        "  plt.show()\n",
        "\n",
        "\n",
        "def show_comments_or_replies_bar_charts(comments, scores, title):\n",
        "    date_to_scores = {}\n",
        "    source_to_scores = {}\n",
        "    for i in range(len(comments)):\n",
        "        c = comments[i]\n",
        "        date_to_scores.setdefault(c.date, []).append(scores[i])\n",
        "        source_to_scores.setdefault(c.source, []).append(scores[i])\n",
        "    date_to_average = {}\n",
        "    for d in date_to_scores.keys():\n",
        "        date_to_average[d] = sum(date_to_scores[d]) / len(date_to_scores[d])\n",
        "    source_to_average = {}\n",
        "    for s in source_to_scores.keys():\n",
        "        source_to_average[s] = sum(source_to_scores[s]) / len(source_to_scores[s])\n",
        "    dates = sorted(date_to_average.keys())\n",
        "    date_scores = [date_to_average.get(d) for d in dates]\n",
        "    plt.title(title + \"date\")\n",
        "    show_bar_plot(dates, date_scores)\n",
        "    sources = sorted(source_to_average.keys())\n",
        "    source_scores = [source_to_average.get(s) for s in sources]\n",
        "    plt.title(title + \"source\")\n",
        "    show_bar_plot(sources, source_scores)\n",
        "\n",
        "\n",
        "def show_user_graphs(user):\n",
        "    comment_scores = [arasapps_list([[c.content, c.source]]) for c in user.comments]\n",
        "    reply_scores = [arasapps_list([[r.content, r.source]]) for r in user.replies]\n",
        "    if len(comment_scores):\n",
        "        show_comments_or_replies_bar_charts(user.comments, comment_scores, f\"{user.name}: APPS per \")\n",
        "    if len(reply_scores):\n",
        "        show_comments_or_replies_bar_charts(user.replies, reply_scores, f\"{user.name}: ARAS per \")\n",
        "\n",
        "\n",
        "def show_bar_plot(xlist, ylist, align='center'):\n",
        "    \"\"\"align = 'center' or 'edge' \"\"\"\n",
        "    plt.bar(xlist, ylist, width=0.7, align=align, linewidth=0, color='lightslategrey')\n",
        "    plt.show()\n",
        "\n",
        "def process_new_events(new_events):\n",
        "  for event in new_events:\n",
        "    user = users[event.user_index]\n",
        "    if event.comment is not None:\n",
        "      comment = event.comment\n",
        "      user.comments.append(Publication(comment[0], None, comment[1], event.date,\n",
        "                          event.timestamp))\n",
        "    elif event.reply is not None:\n",
        "      reply = event.reply\n",
        "      user.replies.append(Publication(reply[0], None, reply[1], event.date,\n",
        "                          event.timestamp))\n",
        "    else:\n",
        "      room_index = event.status_change_in_room - 1\n",
        "      if user in rooms[room_index].members:\n",
        "        rooms[room_index].members.remove(user)\n",
        "      elif user in rooms[room_index].join_requests:\n",
        "        rooms[room_index].join_requests.remove(user)\n",
        "      else:\n",
        "        rooms[room_index].join_requests.append(user)\n",
        "  global sent_scores\n",
        "  sent_scores = []\n",
        "  for user in users:\n",
        "    sent_scores.append([arasapps(user), arasapps(user, False)])\n",
        "  for room in rooms:\n",
        "    print(\"\\n\", room.name.upper())\n",
        "    print(\"\\t\", \"MEMBERS\")\n",
        "    for member in room.members:\n",
        "      status = \"safe\"\n",
        "      if sent_scores[member.userID][0] < -0.3:\n",
        "        status = \"likely bully\"\n",
        "      if sent_scores[member.userID][1] < -0.3:\n",
        "        status = \"likely troll\"\n",
        "      if sent_scores[member.userID][0] < -0.3 and sent_scores[member.userID][1] < -0.3:\n",
        "        status = \"high-threat\"\n",
        "      print(member.name, sent_scores[member.userID], status)\n",
        "    print(\"\\t\", \"JOIN REQUESTS\")\n",
        "    for member in room.join_requests:\n",
        "      status = \"safe\"\n",
        "      if sent_scores[member.userID][0] < -0.3:\n",
        "        status = \"likely bully\"\n",
        "      if sent_scores[member.userID][1] < -0.3:\n",
        "        status = \"likely troll\"\n",
        "      if sent_scores[member.userID][0] < -0.3 and sent_scores[member.userID][1] < -0.3:\n",
        "        status = \"high-threat\"\n",
        "      print(member.name, sent_scores[member.userID], status, \"accept/decline\")"
      ],
      "metadata": {
        "id": "IiYv2uixnd_B"
      },
      "execution_count": 45,
      "outputs": []
    },
    {
      "cell_type": "code",
      "source": [
        "event_queue = queue.SimpleQueue()\n",
        "start_event_generation_threads(len(users), rooms, event_queue)\n",
        "while True:\n",
        "    new_events = []\n",
        "    while not event_queue.empty():\n",
        "        new_events.append(event_queue.get())\n",
        "    if len(new_events):\n",
        "      clear_output()\n",
        "      process_new_events(new_events)\n",
        "      user = choice(users)\n",
        "      sentiments = sent_scores\n",
        "      print(\"ARAS SCORE DISTRIBUTION ACROSS ALL USERS\")\n",
        "      show_users_sentiments_pie_chart(sentiments, False)\n",
        "      print(\"APPS SCORE DISTRIBUTION ACROSS ALL USERS\")\n",
        "      show_users_sentiments_pie_chart(sentiments, True)\n",
        "      show_user_graphs(user)\n",
        "    time.sleep(10)"
      ],
      "metadata": {
        "colab": {
          "base_uri": "https://localhost:8080/",
          "height": 1000
        },
        "id": "EKnQvjEVd7fb",
        "outputId": "5bd7ceaa-733b-430d-ceaf-e04348cce03c"
      },
      "execution_count": 48,
      "outputs": [
        {
          "output_type": "stream",
          "name": "stdout",
          "text": [
            "\n",
            " ROOM1\n",
            "\t MEMBERS\n",
            "John221 [0.07592592592592594, 0.03966666666666666] safe\n",
            "GoogleEnPassant765 [-0.06666666666666665, -0.1186904761904762] safe\n",
            "GaryChess3 [0.31666666666666665, 0.002083333333333326] safe\n",
            "GoogleEnPassant484 [-0.05946969696969696, -0.032017543859649125] safe\n",
            "Jack991 [0.3386363636363636, 0.17314814814814816] safe\n",
            "Jacob465 [0.18256302521008405, -0.015185185185185178] safe\n",
            "Jacob871 [-0.35000000000000003, 0.10873015873015873] likely bully\n",
            "John561 [0.08333333333333333, -0.3194444444444445] likely troll\n",
            "Mike11 [0.14791666666666667, 0.375] safe\n",
            "George382 [-0.07238756613756614, -0.07765151515151518] safe\n",
            "\t JOIN REQUESTS\n",
            "Rhosnes82 [-0.014015151515151515, -0.20178571428571432] safe accept/decline\n",
            "Arseniy678 [-0.01967171717171719, -0.13373737373737374] safe accept/decline\n",
            "Gregorz222 [-0.056818181818181816, -0.013446969696969695] safe accept/decline\n",
            "HolyHell265 [-0.13045238095238096, 0.08999999999999998] safe accept/decline\n",
            "Jacob221 [0.2479166666666667, -0.09047619047619049] safe accept/decline\n",
            "Mike780 [-0.1691142191142191, 0.15824956293706294] safe accept/decline\n",
            "GoogleEnPassant595 [0.08541666666666664, -0.5008928571428571] likely troll accept/decline\n",
            "Max332 [0.2625, -0.5874999999999999] likely troll accept/decline\n",
            "George846 [0.2094387755102041, 0.21293706293706294] safe accept/decline\n",
            "Moh425 [-0.033333333333333326, 0.010416666666666666] safe accept/decline\n",
            "Mike466 [0.02347470238095238, 0.07129103535353534] safe accept/decline\n",
            "Rhosnes700 [-0.19, -0.2333333333333333] safe accept/decline\n",
            "Rhosnes847 [0.3312037037037037, 0.06582491582491583] safe accept/decline\n",
            "\n",
            " ROOM2\n",
            "\t MEMBERS\n",
            "John221 [0.07592592592592594, 0.03966666666666666] safe\n",
            "GoogleEnPassant484 [-0.05946969696969696, -0.032017543859649125] safe\n",
            "HolyHell265 [-0.13045238095238096, 0.08999999999999998] safe\n",
            "Jack991 [0.3386363636363636, 0.17314814814814816] safe\n",
            "Jacob574 [-0.07288095238095238, 0.05157024793388431] safe\n",
            "Gregorz389 [-0.10726911976911979, -0.042092803030303036] safe\n",
            "Mike84 [-0.06597222222222222, -0.09140625000000001] safe\n",
            "GaryChess737 [-0.27389455782312927, -0.0369047619047619] safe\n",
            "Jacob119 [0.09177489177489176, 0.010897435897435926] safe\n",
            "Gregorz620 [-0.11994572094572094, -0.1326121794871795] safe\n",
            "GoogleEnPassant161 [0.011363636363636354, -0.13124999999999998] safe\n",
            "\t JOIN REQUESTS\n",
            "GoogleEnPassant646 [-0.19831123737373735, 0.04847985347985348] safe accept/decline\n",
            "GoogleEnPassant765 [-0.06666666666666665, -0.1186904761904762] safe accept/decline\n",
            "Jack767 [-0.2923611111111111, -0.315625] likely troll accept/decline\n",
            "Arseniy402 [-0.23749999999999993, -0.3333333333333333] likely troll accept/decline\n",
            "Jacob221 [0.2479166666666667, -0.09047619047619049] safe accept/decline\n",
            "George865 [0.09375, 0.17589672232529377] safe accept/decline\n",
            "Jacob811 [-0.10583333333333333, -0.12673611111111108] safe accept/decline\n",
            "Arseniy163 [-0.04166666666666667, 0.06666666666666667] safe accept/decline\n",
            "Moh425 [-0.033333333333333326, 0.010416666666666666] safe accept/decline\n",
            "Mike706 [-0.5087594696969697, -0.16760416666666667] likely bully accept/decline\n",
            "Max687 [0.08055555555555555, -0.38571428571428573] likely troll accept/decline\n",
            "George131 [0.2545454545454545, 0.10989583333333333] safe accept/decline\n",
            "Max751 [0.1048611111111111, -0.09090136054421764] safe accept/decline\n",
            "Gregorz222 [-0.056818181818181816, -0.013446969696969695] safe accept/decline\n",
            "Moh864 [0.14256278443778445, -0.06901629072681705] safe accept/decline\n",
            "ARAS SCORE DISTRIBUTION ACROSS ALL USERS\n"
          ]
        },
        {
          "output_type": "display_data",
          "data": {
            "text/plain": [
              "<Figure size 432x288 with 1 Axes>"
            ],
            "image/png": "[encoded data removed]"
          },
          "metadata": {}
        },
        {
          "output_type": "stream",
          "name": "stdout",
          "text": [
            "APPS SCORE DISTRIBUTION ACROSS ALL USERS\n"
          ]
        },
        {
          "output_type": "display_data",
          "data": {
            "text/plain": [
              "<Figure size 432x288 with 1 Axes>"
            ],
            "image/png": "[encoded data removed]"
          },
          "metadata": {}
        },
        {
          "output_type": "display_data",
          "data": {
            "text/plain": [
              "<Figure size 432x288 with 1 Axes>"
            ],
            "image/png": "[encoded data removed]"
          },
          "metadata": {
            "needs_background": "light"
          }
        },
        {
          "output_type": "display_data",
          "data": {
            "text/plain": [
              "<Figure size 432x288 with 1 Axes>"
            ],
            "image/png": "[encoded data removed]"
          },
          "metadata": {
            "needs_background": "light"
          }
        },
        {
          "output_type": "display_data",
          "data": {
            "text/plain": [
              "<Figure size 432x288 with 1 Axes>"
            ],
            "image/png": "[encoded data removed]"
          },
          "metadata": {
            "needs_background": "light"
          }
        },
        {
          "output_type": "display_data",
          "data": {
            "text/plain": [
              "<Figure size 432x288 with 1 Axes>"
            ],
            "image/png": "[encoded data removed]"
          },
          "metadata": {
            "needs_background": "light"
          }
        },
        {
          "output_type": "error",
          "ename": "KeyboardInterrupt",
          "evalue": "ignored",
          "traceback": [
            "\u001b[0;31m---------------------------------------------------------------------------\u001b[0m",
            "\u001b[0;31mKeyboardInterrupt\u001b[0m                         Traceback (most recent call last)",
            "\u001b[0;32m<ipython-input-48-739e18dec9e5>\u001b[0m in \u001b[0;36m<module>\u001b[0;34m()\u001b[0m\n\u001b[1;32m     15\u001b[0m       \u001b[0mshow_users_sentiments_pie_chart\u001b[0m\u001b[0;34m(\u001b[0m\u001b[0msentiments\u001b[0m\u001b[0;34m,\u001b[0m \u001b[0;32mTrue\u001b[0m\u001b[0;34m)\u001b[0m\u001b[0;34m\u001b[0m\u001b[0;34m\u001b[0m\u001b[0m\n\u001b[1;32m     16\u001b[0m       \u001b[0mshow_user_graphs\u001b[0m\u001b[0;34m(\u001b[0m\u001b[0muser\u001b[0m\u001b[0;34m)\u001b[0m\u001b[0;34m\u001b[0m\u001b[0;34m\u001b[0m\u001b[0m\n\u001b[0;32m---> 17\u001b[0;31m     \u001b[0mtime\u001b[0m\u001b[0;34m.\u001b[0m\u001b[0msleep\u001b[0m\u001b[0;34m(\u001b[0m\u001b[0;36m10\u001b[0m\u001b[0;34m)\u001b[0m\u001b[0;34m\u001b[0m\u001b[0;34m\u001b[0m\u001b[0m\n\u001b[0m",
            "\u001b[0;31mKeyboardInterrupt\u001b[0m: "
          ]
        }
      ]
    }
  ]
}
