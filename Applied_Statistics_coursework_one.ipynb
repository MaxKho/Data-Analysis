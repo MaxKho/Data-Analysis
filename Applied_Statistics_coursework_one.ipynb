{
  "nbformat": 4,
  "nbformat_minor": 0,
  "metadata": {
    "colab": {
      "provenance": [],
      "authorship_tag": "ABX9TyNKrAc84xOwrlcCXizgO1TB",
      "include_colab_link": true
    },
    "kernelspec": {
      "name": "python3",
      "display_name": "Python 3"
    },
    "language_info": {
      "name": "python"
    }
  },
  "cells": [
    {
      "cell_type": "markdown",
      "metadata": {
        "id": "view-in-github",
        "colab_type": "text"
      },
      "source": [
        "<a href=\"https://colab.research.google.com/github/MaxKho/Data-Analysis/blob/main/Applied_Statistics_coursework_one.ipynb\" target=\"_parent\"><img src=\"https://colab.research.google.com/assets/colab-badge.svg\" alt=\"Open In Colab\"/></a>"
      ]
    },
    {
      "cell_type": "code",
      "execution_count": 16,
      "metadata": {
        "id": "y_kOI7C87Hzx"
      },
      "outputs": [],
      "source": [
        "#1.a\n",
        "def count_measure(input_set):\n",
        "  assert isinstance(input_set, set), 'Input needs to be a set'\n",
        "  count = 0\n",
        "  for i in range(len(input_set)):\n",
        "    count += 1\n",
        "  return count"
      ]
    },
    {
      "cell_type": "markdown",
      "source": [
        "A measure M is additive if and only if, for any two disjoint sets A and B, M(A∪B) = M(A) + M(B)"
      ],
      "metadata": {
        "id": "MEQ0PmoeIzHq"
      }
    },
    {
      "cell_type": "code",
      "source": [
        "#1.b\n",
        "if count_measure({'a', 'b', 'c'}) + count_measure({'d', 'e', 'f'}) == count_measure({'a', 'b', 'c'}.union({'d', 'e', 'f'})):\n",
        "  print('Measure satisfies additivity')\n",
        "else:\n",
        "  print(\"Measure doesn't satisfy additivity\")"
      ],
      "metadata": {
        "colab": {
          "base_uri": "https://localhost:8080/"
        },
        "id": "7-8a-fKBLznb",
        "outputId": "ab89f40c-571a-4bfc-d0de-3505458ff52a"
      },
      "execution_count": 17,
      "outputs": [
        {
          "output_type": "stream",
          "name": "stdout",
          "text": [
            "Measure satisfies additivity\n"
          ]
        }
      ]
    },
    {
      "cell_type": "code",
      "source": [
        "#2\n",
        "class Interval:\n",
        "  def __init__(self, lower_bound, upper_bound):\n",
        "    self.lower_bound = lower_bound\n",
        "    self.upper_bound = upper_bound\n",
        "\n",
        "def get_length(interval):\n",
        "  assert isinstance(interval, Interval),  'Input needs to be an instance of the Interval class'\n",
        "  assert interval.upper_bound > interval.lower_bound, 'Upper_bound needs to be greater than the lower_bound'\n",
        "  return(interval.upper_bound - interval.lower_bound)\n",
        "\n",
        "get_length(Interval(1,3.5))"
      ],
      "metadata": {
        "colab": {
          "base_uri": "https://localhost:8080/"
        },
        "id": "Or1u7sLCNw-Y",
        "outputId": "2dd756a1-ca63-4e0e-f49f-05a74655aacb"
      },
      "execution_count": 18,
      "outputs": [
        {
          "output_type": "execute_result",
          "data": {
            "text/plain": [
              "2.5"
            ]
          },
          "metadata": {},
          "execution_count": 18
        }
      ]
    },
    {
      "cell_type": "code",
      "source": [
        "#3\n",
        "import scipy.stats\n",
        "import matplotlib.pyplot as plt\n",
        "import numpy as np\n",
        "\n",
        "def expon_measure(interval):\n",
        "  assert isinstance(interval, Interval), 'Input needs to be an instance of the Interval class'\n",
        "  cdf_lower_bound = scipy.stats.expon.cdf(interval.lower_bound,0,1/2)\n",
        "  cdf_mass_upper_bound = scipy.stats.expon.cdf(interval.upper_bound,0,1/2)\n",
        "  probability_mass = cdf_mass_upper_bound - cdf_lower_bound\n",
        "  return probability_mass\n",
        "\n",
        "print(expon_measure(Interval(0,1)))\n",
        "print(expon_measure(Interval(1,1)))\n",
        "print(expon_measure(Interval(1,10)))\n",
        "print(expon_measure(Interval(0,float('inf'))))\n",
        "\n",
        "plt.plot(np.linspace(0,10), scipy.stats.expon.pdf(np.linspace(0,10),0,1/2))\n",
        "plt.show()"
      ],
      "metadata": {
        "colab": {
          "base_uri": "https://localhost:8080/",
          "height": 503
        },
        "id": "zVZTi2-nn66W",
        "outputId": "aca6e774-37bc-4c60-a2a3-51a9c05992db"
      },
      "execution_count": 30,
      "outputs": [
        {
          "output_type": "stream",
          "name": "stdout",
          "text": [
            "0.8646647167633873\n",
            "0.0\n",
            "0.13533528117545912\n",
            "1.0\n"
          ]
        },
        {
          "output_type": "display_data",
          "data": {
            "text/plain": [
              "<Figure size 640x480 with 1 Axes>"
            ],
            "image/png": "[encoded data removed]"
          },
          "metadata": {}
        }
      ]
    },
    {
      "cell_type": "markdown",
      "source": [
        "Visually, the answers make sense as the probability mass of the interval [0,1] was determined to be quite high (0.86 to 2d.p.) by the expon_measure() function while the mass of the interval [1,10] was determined to be quite low (0.14 to 2d.p.), and the probability mass of anything outside these two intervals is practically 0 (0.00 to 2d.p.).\n",
        "\n",
        "This is consistent with the pdf plot, which shows high values in the interval [0,1], non-negligible values in the interval [1,2] ─ a subset of the interval [1,10] ─ and negligibly low values for x>2."
      ],
      "metadata": {
        "id": "YvujHbDCI5JW"
      }
    },
    {
      "cell_type": "code",
      "source": [
        "#4\n",
        "from scipy.integrate import quad\n",
        "\n",
        "def expon_pdf(x):\n",
        "  return scipy.stats.expon.pdf(x,0,1/2)\n",
        "\n",
        "def expon_integrator(interval):\n",
        "  assert isinstance(interval, Interval), 'Input needs to be an instance of the Interval class'\n",
        "  return(quad(expon_pdf, interval.lower_bound, interval.upper_bound))"
      ],
      "metadata": {
        "id": "lKJI4p-3zyMP"
      },
      "execution_count": 20,
      "outputs": []
    },
    {
      "cell_type": "code",
      "source": [
        "#4.a\n",
        "expon_integrator(Interval(0,1))"
      ],
      "metadata": {
        "colab": {
          "base_uri": "https://localhost:8080/"
        },
        "id": "H7KZs_ZS0_vk",
        "outputId": "25e6c381-f1a1-4903-8c8a-2eb5da1eda00"
      },
      "execution_count": 21,
      "outputs": [
        {
          "output_type": "execute_result",
          "data": {
            "text/plain": [
              "(0.8646647167633872, 9.59970677131702e-15)"
            ]
          },
          "metadata": {},
          "execution_count": 21
        }
      ]
    },
    {
      "cell_type": "code",
      "source": [
        "#4.b\n",
        "expon_integrator(Interval(1,1))"
      ],
      "metadata": {
        "colab": {
          "base_uri": "https://localhost:8080/"
        },
        "id": "Qub5OUxo2dzq",
        "outputId": "b0252c8c-86c1-44f5-b0b0-b31c377920ea"
      },
      "execution_count": 22,
      "outputs": [
        {
          "output_type": "execute_result",
          "data": {
            "text/plain": [
              "(0.0, 0.0)"
            ]
          },
          "metadata": {},
          "execution_count": 22
        }
      ]
    },
    {
      "cell_type": "code",
      "source": [
        "#4.c\n",
        "expon_integrator(Interval(1,10))"
      ],
      "metadata": {
        "colab": {
          "base_uri": "https://localhost:8080/"
        },
        "id": "VIJj4xY92kHP",
        "outputId": "1928fe1b-c389-43b7-e985-bcd5c11053c5"
      },
      "execution_count": 29,
      "outputs": [
        {
          "output_type": "execute_result",
          "data": {
            "text/plain": [
              "(0.13533528117545912, 2.4502060294750603e-09)"
            ]
          },
          "metadata": {},
          "execution_count": 29
        }
      ]
    },
    {
      "cell_type": "code",
      "source": [
        "#4.d\n",
        "expon_integrator(Interval(0,float('inf')))"
      ],
      "metadata": {
        "colab": {
          "base_uri": "https://localhost:8080/"
        },
        "id": "Qa-aI5V02qYt",
        "outputId": "c349d034-c0b0-4d9c-8d51-cb0d415461d5"
      },
      "execution_count": 24,
      "outputs": [
        {
          "output_type": "execute_result",
          "data": {
            "text/plain": [
              "(0.9999999999999999, 1.547006406148436e-10)"
            ]
          },
          "metadata": {},
          "execution_count": 24
        }
      ]
    },
    {
      "cell_type": "markdown",
      "source": [
        "The answers for question 4 are the same as the answers for question 3 because the probability mass of an interval is by definition the integral of the PDF over that interval (because the PDF by definition is the derivative of the CDF)."
      ],
      "metadata": {
        "id": "6RIhWjHK2_tu"
      }
    }
  ]
}